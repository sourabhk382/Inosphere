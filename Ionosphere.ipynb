{
 "cells": [
  {
   "cell_type": "markdown",
   "id": "c2e0908e",
   "metadata": {},
   "source": [
    "##                            Classification of Radar returns from the Ionosphere"
   ]
  },
  {
   "cell_type": "code",
   "execution_count": 4,
   "id": "13786f0c",
   "metadata": {},
   "outputs": [],
   "source": [
    "import pandas as pd\n",
    "import numpy as np\n",
    "from matplotlib import pyplot as plt\n",
    "%matplotlib inline\n",
    "import seaborn as sns"
   ]
  },
  {
   "cell_type": "code",
   "execution_count": 5,
   "id": "e74dc207",
   "metadata": {},
   "outputs": [
    {
     "data": {
      "text/html": [
       "<div>\n",
       "<style scoped>\n",
       "    .dataframe tbody tr th:only-of-type {\n",
       "        vertical-align: middle;\n",
       "    }\n",
       "\n",
       "    .dataframe tbody tr th {\n",
       "        vertical-align: top;\n",
       "    }\n",
       "\n",
       "    .dataframe thead th {\n",
       "        text-align: right;\n",
       "    }\n",
       "</style>\n",
       "<table border=\"1\" class=\"dataframe\">\n",
       "  <thead>\n",
       "    <tr style=\"text-align: right;\">\n",
       "      <th></th>\n",
       "      <th>column_a</th>\n",
       "      <th>column_b</th>\n",
       "      <th>column_c</th>\n",
       "      <th>column_d</th>\n",
       "      <th>column_e</th>\n",
       "      <th>column_f</th>\n",
       "      <th>column_g</th>\n",
       "      <th>column_h</th>\n",
       "      <th>column_i</th>\n",
       "      <th>column_j</th>\n",
       "      <th>...</th>\n",
       "      <th>column_z</th>\n",
       "      <th>column_aa</th>\n",
       "      <th>column_ab</th>\n",
       "      <th>column_ac</th>\n",
       "      <th>column_ad</th>\n",
       "      <th>column_ae</th>\n",
       "      <th>column_af</th>\n",
       "      <th>column_ag</th>\n",
       "      <th>column_ah</th>\n",
       "      <th>column_ai</th>\n",
       "    </tr>\n",
       "  </thead>\n",
       "  <tbody>\n",
       "    <tr>\n",
       "      <th>0</th>\n",
       "      <td>True</td>\n",
       "      <td>False</td>\n",
       "      <td>0.99539</td>\n",
       "      <td>-0.05889</td>\n",
       "      <td>0.85243</td>\n",
       "      <td>0.02306</td>\n",
       "      <td>0.83398</td>\n",
       "      <td>-0.37708</td>\n",
       "      <td>1.00000</td>\n",
       "      <td>0.03760</td>\n",
       "      <td>...</td>\n",
       "      <td>-0.51171</td>\n",
       "      <td>0.41078</td>\n",
       "      <td>-0.46168</td>\n",
       "      <td>0.21266</td>\n",
       "      <td>-0.34090</td>\n",
       "      <td>0.42267</td>\n",
       "      <td>-0.54487</td>\n",
       "      <td>0.18641</td>\n",
       "      <td>-0.45300</td>\n",
       "      <td>g</td>\n",
       "    </tr>\n",
       "    <tr>\n",
       "      <th>1</th>\n",
       "      <td>True</td>\n",
       "      <td>False</td>\n",
       "      <td>1.00000</td>\n",
       "      <td>-0.18829</td>\n",
       "      <td>0.93035</td>\n",
       "      <td>-0.36156</td>\n",
       "      <td>-0.10868</td>\n",
       "      <td>-0.93597</td>\n",
       "      <td>1.00000</td>\n",
       "      <td>-0.04549</td>\n",
       "      <td>...</td>\n",
       "      <td>-0.26569</td>\n",
       "      <td>-0.20468</td>\n",
       "      <td>-0.18401</td>\n",
       "      <td>-0.19040</td>\n",
       "      <td>-0.11593</td>\n",
       "      <td>-0.16626</td>\n",
       "      <td>-0.06288</td>\n",
       "      <td>-0.13738</td>\n",
       "      <td>-0.02447</td>\n",
       "      <td>b</td>\n",
       "    </tr>\n",
       "    <tr>\n",
       "      <th>2</th>\n",
       "      <td>True</td>\n",
       "      <td>False</td>\n",
       "      <td>1.00000</td>\n",
       "      <td>-0.03365</td>\n",
       "      <td>1.00000</td>\n",
       "      <td>0.00485</td>\n",
       "      <td>1.00000</td>\n",
       "      <td>-0.12062</td>\n",
       "      <td>0.88965</td>\n",
       "      <td>0.01198</td>\n",
       "      <td>...</td>\n",
       "      <td>-0.40220</td>\n",
       "      <td>0.58984</td>\n",
       "      <td>-0.22145</td>\n",
       "      <td>0.43100</td>\n",
       "      <td>-0.17365</td>\n",
       "      <td>0.60436</td>\n",
       "      <td>-0.24180</td>\n",
       "      <td>0.56045</td>\n",
       "      <td>-0.38238</td>\n",
       "      <td>g</td>\n",
       "    </tr>\n",
       "    <tr>\n",
       "      <th>3</th>\n",
       "      <td>True</td>\n",
       "      <td>False</td>\n",
       "      <td>1.00000</td>\n",
       "      <td>-0.45161</td>\n",
       "      <td>1.00000</td>\n",
       "      <td>1.00000</td>\n",
       "      <td>0.71216</td>\n",
       "      <td>-1.00000</td>\n",
       "      <td>0.00000</td>\n",
       "      <td>0.00000</td>\n",
       "      <td>...</td>\n",
       "      <td>0.90695</td>\n",
       "      <td>0.51613</td>\n",
       "      <td>1.00000</td>\n",
       "      <td>1.00000</td>\n",
       "      <td>-0.20099</td>\n",
       "      <td>0.25682</td>\n",
       "      <td>1.00000</td>\n",
       "      <td>-0.32382</td>\n",
       "      <td>1.00000</td>\n",
       "      <td>b</td>\n",
       "    </tr>\n",
       "    <tr>\n",
       "      <th>4</th>\n",
       "      <td>True</td>\n",
       "      <td>False</td>\n",
       "      <td>1.00000</td>\n",
       "      <td>-0.02401</td>\n",
       "      <td>0.94140</td>\n",
       "      <td>0.06531</td>\n",
       "      <td>0.92106</td>\n",
       "      <td>-0.23255</td>\n",
       "      <td>0.77152</td>\n",
       "      <td>-0.16399</td>\n",
       "      <td>...</td>\n",
       "      <td>-0.65158</td>\n",
       "      <td>0.13290</td>\n",
       "      <td>-0.53206</td>\n",
       "      <td>0.02431</td>\n",
       "      <td>-0.62197</td>\n",
       "      <td>-0.05707</td>\n",
       "      <td>-0.59573</td>\n",
       "      <td>-0.04608</td>\n",
       "      <td>-0.65697</td>\n",
       "      <td>g</td>\n",
       "    </tr>\n",
       "  </tbody>\n",
       "</table>\n",
       "<p>5 rows × 35 columns</p>\n",
       "</div>"
      ],
      "text/plain": [
       "   column_a  column_b  column_c  column_d  column_e  column_f  column_g  \\\n",
       "0      True     False   0.99539  -0.05889   0.85243   0.02306   0.83398   \n",
       "1      True     False   1.00000  -0.18829   0.93035  -0.36156  -0.10868   \n",
       "2      True     False   1.00000  -0.03365   1.00000   0.00485   1.00000   \n",
       "3      True     False   1.00000  -0.45161   1.00000   1.00000   0.71216   \n",
       "4      True     False   1.00000  -0.02401   0.94140   0.06531   0.92106   \n",
       "\n",
       "   column_h  column_i  column_j  ...  column_z  column_aa  column_ab  \\\n",
       "0  -0.37708   1.00000   0.03760  ...  -0.51171    0.41078   -0.46168   \n",
       "1  -0.93597   1.00000  -0.04549  ...  -0.26569   -0.20468   -0.18401   \n",
       "2  -0.12062   0.88965   0.01198  ...  -0.40220    0.58984   -0.22145   \n",
       "3  -1.00000   0.00000   0.00000  ...   0.90695    0.51613    1.00000   \n",
       "4  -0.23255   0.77152  -0.16399  ...  -0.65158    0.13290   -0.53206   \n",
       "\n",
       "   column_ac  column_ad  column_ae  column_af  column_ag  column_ah  column_ai  \n",
       "0    0.21266   -0.34090    0.42267   -0.54487    0.18641   -0.45300          g  \n",
       "1   -0.19040   -0.11593   -0.16626   -0.06288   -0.13738   -0.02447          b  \n",
       "2    0.43100   -0.17365    0.60436   -0.24180    0.56045   -0.38238          g  \n",
       "3    1.00000   -0.20099    0.25682    1.00000   -0.32382    1.00000          b  \n",
       "4    0.02431   -0.62197   -0.05707   -0.59573   -0.04608   -0.65697          g  \n",
       "\n",
       "[5 rows x 35 columns]"
      ]
     },
     "execution_count": 5,
     "metadata": {},
     "output_type": "execute_result"
    }
   ],
   "source": [
    "df = pd.read_csv(r\"C:\\Users\\Shubham\\Downloads\\Excel\\ionosphere_data.csv\")\n",
    "df.head()"
   ]
  },
  {
   "cell_type": "code",
   "execution_count": 6,
   "id": "e7d268b2",
   "metadata": {},
   "outputs": [
    {
     "data": {
      "text/html": [
       "<div>\n",
       "<style scoped>\n",
       "    .dataframe tbody tr th:only-of-type {\n",
       "        vertical-align: middle;\n",
       "    }\n",
       "\n",
       "    .dataframe tbody tr th {\n",
       "        vertical-align: top;\n",
       "    }\n",
       "\n",
       "    .dataframe thead th {\n",
       "        text-align: right;\n",
       "    }\n",
       "</style>\n",
       "<table border=\"1\" class=\"dataframe\">\n",
       "  <thead>\n",
       "    <tr style=\"text-align: right;\">\n",
       "      <th></th>\n",
       "      <th>column_c</th>\n",
       "      <th>column_d</th>\n",
       "      <th>column_e</th>\n",
       "      <th>column_f</th>\n",
       "      <th>column_g</th>\n",
       "      <th>column_h</th>\n",
       "      <th>column_i</th>\n",
       "      <th>column_j</th>\n",
       "      <th>column_k</th>\n",
       "      <th>column_l</th>\n",
       "      <th>...</th>\n",
       "      <th>column_y</th>\n",
       "      <th>column_z</th>\n",
       "      <th>column_aa</th>\n",
       "      <th>column_ab</th>\n",
       "      <th>column_ac</th>\n",
       "      <th>column_ad</th>\n",
       "      <th>column_ae</th>\n",
       "      <th>column_af</th>\n",
       "      <th>column_ag</th>\n",
       "      <th>column_ah</th>\n",
       "    </tr>\n",
       "  </thead>\n",
       "  <tbody>\n",
       "    <tr>\n",
       "      <th>count</th>\n",
       "      <td>351.000000</td>\n",
       "      <td>351.000000</td>\n",
       "      <td>351.000000</td>\n",
       "      <td>351.000000</td>\n",
       "      <td>351.000000</td>\n",
       "      <td>351.000000</td>\n",
       "      <td>351.000000</td>\n",
       "      <td>351.000000</td>\n",
       "      <td>351.000000</td>\n",
       "      <td>351.000000</td>\n",
       "      <td>...</td>\n",
       "      <td>351.000000</td>\n",
       "      <td>351.000000</td>\n",
       "      <td>351.000000</td>\n",
       "      <td>351.000000</td>\n",
       "      <td>351.000000</td>\n",
       "      <td>351.000000</td>\n",
       "      <td>351.000000</td>\n",
       "      <td>351.000000</td>\n",
       "      <td>351.000000</td>\n",
       "      <td>351.000000</td>\n",
       "    </tr>\n",
       "    <tr>\n",
       "      <th>mean</th>\n",
       "      <td>0.641342</td>\n",
       "      <td>0.044372</td>\n",
       "      <td>0.601068</td>\n",
       "      <td>0.115889</td>\n",
       "      <td>0.550095</td>\n",
       "      <td>0.119360</td>\n",
       "      <td>0.511848</td>\n",
       "      <td>0.181345</td>\n",
       "      <td>0.476183</td>\n",
       "      <td>0.155040</td>\n",
       "      <td>...</td>\n",
       "      <td>0.396135</td>\n",
       "      <td>-0.071187</td>\n",
       "      <td>0.541641</td>\n",
       "      <td>-0.069538</td>\n",
       "      <td>0.378445</td>\n",
       "      <td>-0.027907</td>\n",
       "      <td>0.352514</td>\n",
       "      <td>-0.003794</td>\n",
       "      <td>0.349364</td>\n",
       "      <td>0.014480</td>\n",
       "    </tr>\n",
       "    <tr>\n",
       "      <th>std</th>\n",
       "      <td>0.497708</td>\n",
       "      <td>0.441435</td>\n",
       "      <td>0.519862</td>\n",
       "      <td>0.460810</td>\n",
       "      <td>0.492654</td>\n",
       "      <td>0.520750</td>\n",
       "      <td>0.507066</td>\n",
       "      <td>0.483851</td>\n",
       "      <td>0.563496</td>\n",
       "      <td>0.494817</td>\n",
       "      <td>...</td>\n",
       "      <td>0.578451</td>\n",
       "      <td>0.508495</td>\n",
       "      <td>0.516205</td>\n",
       "      <td>0.550025</td>\n",
       "      <td>0.575886</td>\n",
       "      <td>0.507974</td>\n",
       "      <td>0.571483</td>\n",
       "      <td>0.513574</td>\n",
       "      <td>0.522663</td>\n",
       "      <td>0.468337</td>\n",
       "    </tr>\n",
       "    <tr>\n",
       "      <th>min</th>\n",
       "      <td>-1.000000</td>\n",
       "      <td>-1.000000</td>\n",
       "      <td>-1.000000</td>\n",
       "      <td>-1.000000</td>\n",
       "      <td>-1.000000</td>\n",
       "      <td>-1.000000</td>\n",
       "      <td>-1.000000</td>\n",
       "      <td>-1.000000</td>\n",
       "      <td>-1.000000</td>\n",
       "      <td>-1.000000</td>\n",
       "      <td>...</td>\n",
       "      <td>-1.000000</td>\n",
       "      <td>-1.000000</td>\n",
       "      <td>-1.000000</td>\n",
       "      <td>-1.000000</td>\n",
       "      <td>-1.000000</td>\n",
       "      <td>-1.000000</td>\n",
       "      <td>-1.000000</td>\n",
       "      <td>-1.000000</td>\n",
       "      <td>-1.000000</td>\n",
       "      <td>-1.000000</td>\n",
       "    </tr>\n",
       "    <tr>\n",
       "      <th>25%</th>\n",
       "      <td>0.472135</td>\n",
       "      <td>-0.064735</td>\n",
       "      <td>0.412660</td>\n",
       "      <td>-0.024795</td>\n",
       "      <td>0.211310</td>\n",
       "      <td>-0.054840</td>\n",
       "      <td>0.087110</td>\n",
       "      <td>-0.048075</td>\n",
       "      <td>0.021120</td>\n",
       "      <td>-0.065265</td>\n",
       "      <td>...</td>\n",
       "      <td>0.000000</td>\n",
       "      <td>-0.332390</td>\n",
       "      <td>0.286435</td>\n",
       "      <td>-0.443165</td>\n",
       "      <td>0.000000</td>\n",
       "      <td>-0.236885</td>\n",
       "      <td>0.000000</td>\n",
       "      <td>-0.242595</td>\n",
       "      <td>0.000000</td>\n",
       "      <td>-0.165350</td>\n",
       "    </tr>\n",
       "    <tr>\n",
       "      <th>50%</th>\n",
       "      <td>0.871110</td>\n",
       "      <td>0.016310</td>\n",
       "      <td>0.809200</td>\n",
       "      <td>0.022800</td>\n",
       "      <td>0.728730</td>\n",
       "      <td>0.014710</td>\n",
       "      <td>0.684210</td>\n",
       "      <td>0.018290</td>\n",
       "      <td>0.667980</td>\n",
       "      <td>0.028250</td>\n",
       "      <td>...</td>\n",
       "      <td>0.553890</td>\n",
       "      <td>-0.015050</td>\n",
       "      <td>0.708240</td>\n",
       "      <td>-0.017690</td>\n",
       "      <td>0.496640</td>\n",
       "      <td>0.000000</td>\n",
       "      <td>0.442770</td>\n",
       "      <td>0.000000</td>\n",
       "      <td>0.409560</td>\n",
       "      <td>0.000000</td>\n",
       "    </tr>\n",
       "    <tr>\n",
       "      <th>75%</th>\n",
       "      <td>1.000000</td>\n",
       "      <td>0.194185</td>\n",
       "      <td>1.000000</td>\n",
       "      <td>0.334655</td>\n",
       "      <td>0.969240</td>\n",
       "      <td>0.445675</td>\n",
       "      <td>0.953240</td>\n",
       "      <td>0.534195</td>\n",
       "      <td>0.957895</td>\n",
       "      <td>0.482375</td>\n",
       "      <td>...</td>\n",
       "      <td>0.905240</td>\n",
       "      <td>0.156765</td>\n",
       "      <td>0.999945</td>\n",
       "      <td>0.153535</td>\n",
       "      <td>0.883465</td>\n",
       "      <td>0.154075</td>\n",
       "      <td>0.857620</td>\n",
       "      <td>0.200120</td>\n",
       "      <td>0.813765</td>\n",
       "      <td>0.171660</td>\n",
       "    </tr>\n",
       "    <tr>\n",
       "      <th>max</th>\n",
       "      <td>1.000000</td>\n",
       "      <td>1.000000</td>\n",
       "      <td>1.000000</td>\n",
       "      <td>1.000000</td>\n",
       "      <td>1.000000</td>\n",
       "      <td>1.000000</td>\n",
       "      <td>1.000000</td>\n",
       "      <td>1.000000</td>\n",
       "      <td>1.000000</td>\n",
       "      <td>1.000000</td>\n",
       "      <td>...</td>\n",
       "      <td>1.000000</td>\n",
       "      <td>1.000000</td>\n",
       "      <td>1.000000</td>\n",
       "      <td>1.000000</td>\n",
       "      <td>1.000000</td>\n",
       "      <td>1.000000</td>\n",
       "      <td>1.000000</td>\n",
       "      <td>1.000000</td>\n",
       "      <td>1.000000</td>\n",
       "      <td>1.000000</td>\n",
       "    </tr>\n",
       "  </tbody>\n",
       "</table>\n",
       "<p>8 rows × 32 columns</p>\n",
       "</div>"
      ],
      "text/plain": [
       "         column_c    column_d    column_e    column_f    column_g    column_h  \\\n",
       "count  351.000000  351.000000  351.000000  351.000000  351.000000  351.000000   \n",
       "mean     0.641342    0.044372    0.601068    0.115889    0.550095    0.119360   \n",
       "std      0.497708    0.441435    0.519862    0.460810    0.492654    0.520750   \n",
       "min     -1.000000   -1.000000   -1.000000   -1.000000   -1.000000   -1.000000   \n",
       "25%      0.472135   -0.064735    0.412660   -0.024795    0.211310   -0.054840   \n",
       "50%      0.871110    0.016310    0.809200    0.022800    0.728730    0.014710   \n",
       "75%      1.000000    0.194185    1.000000    0.334655    0.969240    0.445675   \n",
       "max      1.000000    1.000000    1.000000    1.000000    1.000000    1.000000   \n",
       "\n",
       "         column_i    column_j    column_k    column_l  ...    column_y  \\\n",
       "count  351.000000  351.000000  351.000000  351.000000  ...  351.000000   \n",
       "mean     0.511848    0.181345    0.476183    0.155040  ...    0.396135   \n",
       "std      0.507066    0.483851    0.563496    0.494817  ...    0.578451   \n",
       "min     -1.000000   -1.000000   -1.000000   -1.000000  ...   -1.000000   \n",
       "25%      0.087110   -0.048075    0.021120   -0.065265  ...    0.000000   \n",
       "50%      0.684210    0.018290    0.667980    0.028250  ...    0.553890   \n",
       "75%      0.953240    0.534195    0.957895    0.482375  ...    0.905240   \n",
       "max      1.000000    1.000000    1.000000    1.000000  ...    1.000000   \n",
       "\n",
       "         column_z   column_aa   column_ab   column_ac   column_ad   column_ae  \\\n",
       "count  351.000000  351.000000  351.000000  351.000000  351.000000  351.000000   \n",
       "mean    -0.071187    0.541641   -0.069538    0.378445   -0.027907    0.352514   \n",
       "std      0.508495    0.516205    0.550025    0.575886    0.507974    0.571483   \n",
       "min     -1.000000   -1.000000   -1.000000   -1.000000   -1.000000   -1.000000   \n",
       "25%     -0.332390    0.286435   -0.443165    0.000000   -0.236885    0.000000   \n",
       "50%     -0.015050    0.708240   -0.017690    0.496640    0.000000    0.442770   \n",
       "75%      0.156765    0.999945    0.153535    0.883465    0.154075    0.857620   \n",
       "max      1.000000    1.000000    1.000000    1.000000    1.000000    1.000000   \n",
       "\n",
       "        column_af   column_ag   column_ah  \n",
       "count  351.000000  351.000000  351.000000  \n",
       "mean    -0.003794    0.349364    0.014480  \n",
       "std      0.513574    0.522663    0.468337  \n",
       "min     -1.000000   -1.000000   -1.000000  \n",
       "25%     -0.242595    0.000000   -0.165350  \n",
       "50%      0.000000    0.409560    0.000000  \n",
       "75%      0.200120    0.813765    0.171660  \n",
       "max      1.000000    1.000000    1.000000  \n",
       "\n",
       "[8 rows x 32 columns]"
      ]
     },
     "execution_count": 6,
     "metadata": {},
     "output_type": "execute_result"
    }
   ],
   "source": [
    "df.describe()"
   ]
  },
  {
   "cell_type": "code",
   "execution_count": 7,
   "id": "7be63154",
   "metadata": {},
   "outputs": [
    {
     "data": {
      "text/plain": [
       "column_a     0\n",
       "column_b     0\n",
       "column_c     0\n",
       "column_d     0\n",
       "column_e     0\n",
       "column_f     0\n",
       "column_g     0\n",
       "column_h     0\n",
       "column_i     0\n",
       "column_j     0\n",
       "column_k     0\n",
       "column_l     0\n",
       "column_m     0\n",
       "column_n     0\n",
       "column_o     0\n",
       "column_p     0\n",
       "column_q     0\n",
       "column_r     0\n",
       "column_s     0\n",
       "column_t     0\n",
       "column_u     0\n",
       "column_v     0\n",
       "column_w     0\n",
       "column_x     0\n",
       "column_y     0\n",
       "column_z     0\n",
       "column_aa    0\n",
       "column_ab    0\n",
       "column_ac    0\n",
       "column_ad    0\n",
       "column_ae    0\n",
       "column_af    0\n",
       "column_ag    0\n",
       "column_ah    0\n",
       "column_ai    0\n",
       "dtype: int64"
      ]
     },
     "execution_count": 7,
     "metadata": {},
     "output_type": "execute_result"
    }
   ],
   "source": [
    "df.isnull().sum()                                                            #no null value"
   ]
  },
  {
   "cell_type": "code",
   "execution_count": 8,
   "id": "cd5f7eed",
   "metadata": {},
   "outputs": [
    {
     "data": {
      "text/plain": [
       "True     313\n",
       "False     38\n",
       "Name: column_a, dtype: int64"
      ]
     },
     "execution_count": 8,
     "metadata": {},
     "output_type": "execute_result"
    }
   ],
   "source": [
    "df['column_a'].value_counts()                                         "
   ]
  },
  {
   "cell_type": "code",
   "execution_count": 9,
   "id": "002b14d7",
   "metadata": {},
   "outputs": [
    {
     "data": {
      "text/plain": [
       "False    351\n",
       "Name: column_b, dtype: int64"
      ]
     },
     "execution_count": 9,
     "metadata": {},
     "output_type": "execute_result"
    }
   ],
   "source": [
    "df['column_b'].value_counts()                                         #all values same, no deviation, dropping it. "
   ]
  },
  {
   "cell_type": "code",
   "execution_count": 10,
   "id": "9c3fc149",
   "metadata": {},
   "outputs": [],
   "source": [
    "df1=df.drop(['column_b'],axis=1) "
   ]
  },
  {
   "cell_type": "markdown",
   "id": "9044cc0c",
   "metadata": {},
   "source": [
    "## Data pre-processing "
   ]
  },
  {
   "cell_type": "markdown",
   "id": "df6e5418",
   "metadata": {},
   "source": [
    "### Converting column_a, column_ai(target) into numerical values. As numerical values required in correlation matrix and making prediction\n",
    "#### Making sure multicollinearity doesnot exist between new columns i.e they are not predictors of each other. When you can derive one variable from other variables, they are known to be multi-colinear. In this situation, one needs to drop one column."
   ]
  },
  {
   "cell_type": "code",
   "execution_count": 11,
   "id": "9a82f2f4",
   "metadata": {},
   "outputs": [
    {
     "data": {
      "text/plain": [
       "True\n",
       "1       313\n",
       "0        38\n",
       "dtype: int64"
      ]
     },
     "execution_count": 11,
     "metadata": {},
     "output_type": "execute_result"
    }
   ],
   "source": [
    "a = pd.get_dummies(df1['column_a'], drop_first = True)\n",
    "a.value_counts()"
   ]
  },
  {
   "cell_type": "code",
   "execution_count": 12,
   "id": "07525420",
   "metadata": {},
   "outputs": [],
   "source": [
    "target=pd.get_dummies(df1['column_ai'], drop_first = True)"
   ]
  },
  {
   "cell_type": "code",
   "execution_count": 13,
   "id": "ab4830a3",
   "metadata": {},
   "outputs": [],
   "source": [
    "df2= pd.concat([df1, a, target], axis = 1)\n",
    "df3=df2.drop(['column_a', 'column_ai'], axis = 1)"
   ]
  },
  {
   "cell_type": "code",
   "execution_count": 14,
   "id": "742644e1",
   "metadata": {},
   "outputs": [
    {
     "data": {
      "text/html": [
       "<div>\n",
       "<style scoped>\n",
       "    .dataframe tbody tr th:only-of-type {\n",
       "        vertical-align: middle;\n",
       "    }\n",
       "\n",
       "    .dataframe tbody tr th {\n",
       "        vertical-align: top;\n",
       "    }\n",
       "\n",
       "    .dataframe thead th {\n",
       "        text-align: right;\n",
       "    }\n",
       "</style>\n",
       "<table border=\"1\" class=\"dataframe\">\n",
       "  <thead>\n",
       "    <tr style=\"text-align: right;\">\n",
       "      <th></th>\n",
       "      <th>column_c</th>\n",
       "      <th>column_d</th>\n",
       "      <th>column_e</th>\n",
       "      <th>column_f</th>\n",
       "      <th>column_g</th>\n",
       "      <th>column_h</th>\n",
       "      <th>column_i</th>\n",
       "      <th>column_j</th>\n",
       "      <th>column_k</th>\n",
       "      <th>column_l</th>\n",
       "      <th>...</th>\n",
       "      <th>column_aa</th>\n",
       "      <th>column_ab</th>\n",
       "      <th>column_ac</th>\n",
       "      <th>column_ad</th>\n",
       "      <th>column_ae</th>\n",
       "      <th>column_af</th>\n",
       "      <th>column_ag</th>\n",
       "      <th>column_ah</th>\n",
       "      <th>True</th>\n",
       "      <th>g</th>\n",
       "    </tr>\n",
       "  </thead>\n",
       "  <tbody>\n",
       "    <tr>\n",
       "      <th>0</th>\n",
       "      <td>0.99539</td>\n",
       "      <td>-0.05889</td>\n",
       "      <td>0.85243</td>\n",
       "      <td>0.02306</td>\n",
       "      <td>0.83398</td>\n",
       "      <td>-0.37708</td>\n",
       "      <td>1.00000</td>\n",
       "      <td>0.03760</td>\n",
       "      <td>0.85243</td>\n",
       "      <td>-0.17755</td>\n",
       "      <td>...</td>\n",
       "      <td>0.41078</td>\n",
       "      <td>-0.46168</td>\n",
       "      <td>0.21266</td>\n",
       "      <td>-0.34090</td>\n",
       "      <td>0.42267</td>\n",
       "      <td>-0.54487</td>\n",
       "      <td>0.18641</td>\n",
       "      <td>-0.45300</td>\n",
       "      <td>1</td>\n",
       "      <td>1</td>\n",
       "    </tr>\n",
       "    <tr>\n",
       "      <th>1</th>\n",
       "      <td>1.00000</td>\n",
       "      <td>-0.18829</td>\n",
       "      <td>0.93035</td>\n",
       "      <td>-0.36156</td>\n",
       "      <td>-0.10868</td>\n",
       "      <td>-0.93597</td>\n",
       "      <td>1.00000</td>\n",
       "      <td>-0.04549</td>\n",
       "      <td>0.50874</td>\n",
       "      <td>-0.67743</td>\n",
       "      <td>...</td>\n",
       "      <td>-0.20468</td>\n",
       "      <td>-0.18401</td>\n",
       "      <td>-0.19040</td>\n",
       "      <td>-0.11593</td>\n",
       "      <td>-0.16626</td>\n",
       "      <td>-0.06288</td>\n",
       "      <td>-0.13738</td>\n",
       "      <td>-0.02447</td>\n",
       "      <td>1</td>\n",
       "      <td>0</td>\n",
       "    </tr>\n",
       "    <tr>\n",
       "      <th>2</th>\n",
       "      <td>1.00000</td>\n",
       "      <td>-0.03365</td>\n",
       "      <td>1.00000</td>\n",
       "      <td>0.00485</td>\n",
       "      <td>1.00000</td>\n",
       "      <td>-0.12062</td>\n",
       "      <td>0.88965</td>\n",
       "      <td>0.01198</td>\n",
       "      <td>0.73082</td>\n",
       "      <td>0.05346</td>\n",
       "      <td>...</td>\n",
       "      <td>0.58984</td>\n",
       "      <td>-0.22145</td>\n",
       "      <td>0.43100</td>\n",
       "      <td>-0.17365</td>\n",
       "      <td>0.60436</td>\n",
       "      <td>-0.24180</td>\n",
       "      <td>0.56045</td>\n",
       "      <td>-0.38238</td>\n",
       "      <td>1</td>\n",
       "      <td>1</td>\n",
       "    </tr>\n",
       "    <tr>\n",
       "      <th>3</th>\n",
       "      <td>1.00000</td>\n",
       "      <td>-0.45161</td>\n",
       "      <td>1.00000</td>\n",
       "      <td>1.00000</td>\n",
       "      <td>0.71216</td>\n",
       "      <td>-1.00000</td>\n",
       "      <td>0.00000</td>\n",
       "      <td>0.00000</td>\n",
       "      <td>0.00000</td>\n",
       "      <td>0.00000</td>\n",
       "      <td>...</td>\n",
       "      <td>0.51613</td>\n",
       "      <td>1.00000</td>\n",
       "      <td>1.00000</td>\n",
       "      <td>-0.20099</td>\n",
       "      <td>0.25682</td>\n",
       "      <td>1.00000</td>\n",
       "      <td>-0.32382</td>\n",
       "      <td>1.00000</td>\n",
       "      <td>1</td>\n",
       "      <td>0</td>\n",
       "    </tr>\n",
       "    <tr>\n",
       "      <th>4</th>\n",
       "      <td>1.00000</td>\n",
       "      <td>-0.02401</td>\n",
       "      <td>0.94140</td>\n",
       "      <td>0.06531</td>\n",
       "      <td>0.92106</td>\n",
       "      <td>-0.23255</td>\n",
       "      <td>0.77152</td>\n",
       "      <td>-0.16399</td>\n",
       "      <td>0.52798</td>\n",
       "      <td>-0.20275</td>\n",
       "      <td>...</td>\n",
       "      <td>0.13290</td>\n",
       "      <td>-0.53206</td>\n",
       "      <td>0.02431</td>\n",
       "      <td>-0.62197</td>\n",
       "      <td>-0.05707</td>\n",
       "      <td>-0.59573</td>\n",
       "      <td>-0.04608</td>\n",
       "      <td>-0.65697</td>\n",
       "      <td>1</td>\n",
       "      <td>1</td>\n",
       "    </tr>\n",
       "  </tbody>\n",
       "</table>\n",
       "<p>5 rows × 34 columns</p>\n",
       "</div>"
      ],
      "text/plain": [
       "   column_c  column_d  column_e  column_f  column_g  column_h  column_i  \\\n",
       "0   0.99539  -0.05889   0.85243   0.02306   0.83398  -0.37708   1.00000   \n",
       "1   1.00000  -0.18829   0.93035  -0.36156  -0.10868  -0.93597   1.00000   \n",
       "2   1.00000  -0.03365   1.00000   0.00485   1.00000  -0.12062   0.88965   \n",
       "3   1.00000  -0.45161   1.00000   1.00000   0.71216  -1.00000   0.00000   \n",
       "4   1.00000  -0.02401   0.94140   0.06531   0.92106  -0.23255   0.77152   \n",
       "\n",
       "   column_j  column_k  column_l  ...  column_aa  column_ab  column_ac  \\\n",
       "0   0.03760   0.85243  -0.17755  ...    0.41078   -0.46168    0.21266   \n",
       "1  -0.04549   0.50874  -0.67743  ...   -0.20468   -0.18401   -0.19040   \n",
       "2   0.01198   0.73082   0.05346  ...    0.58984   -0.22145    0.43100   \n",
       "3   0.00000   0.00000   0.00000  ...    0.51613    1.00000    1.00000   \n",
       "4  -0.16399   0.52798  -0.20275  ...    0.13290   -0.53206    0.02431   \n",
       "\n",
       "   column_ad  column_ae  column_af  column_ag  column_ah  True  g  \n",
       "0   -0.34090    0.42267   -0.54487    0.18641   -0.45300     1  1  \n",
       "1   -0.11593   -0.16626   -0.06288   -0.13738   -0.02447     1  0  \n",
       "2   -0.17365    0.60436   -0.24180    0.56045   -0.38238     1  1  \n",
       "3   -0.20099    0.25682    1.00000   -0.32382    1.00000     1  0  \n",
       "4   -0.62197   -0.05707   -0.59573   -0.04608   -0.65697     1  1  \n",
       "\n",
       "[5 rows x 34 columns]"
      ]
     },
     "execution_count": 14,
     "metadata": {},
     "output_type": "execute_result"
    }
   ],
   "source": [
    "df3.head()"
   ]
  },
  {
   "cell_type": "code",
   "execution_count": 15,
   "id": "8dcdcf87",
   "metadata": {},
   "outputs": [
    {
     "data": {
      "text/html": [
       "<div>\n",
       "<style scoped>\n",
       "    .dataframe tbody tr th:only-of-type {\n",
       "        vertical-align: middle;\n",
       "    }\n",
       "\n",
       "    .dataframe tbody tr th {\n",
       "        vertical-align: top;\n",
       "    }\n",
       "\n",
       "    .dataframe thead th {\n",
       "        text-align: right;\n",
       "    }\n",
       "</style>\n",
       "<table border=\"1\" class=\"dataframe\">\n",
       "  <thead>\n",
       "    <tr style=\"text-align: right;\">\n",
       "      <th></th>\n",
       "      <th>column_c</th>\n",
       "      <th>column_d</th>\n",
       "      <th>column_e</th>\n",
       "      <th>column_f</th>\n",
       "      <th>column_g</th>\n",
       "      <th>column_h</th>\n",
       "      <th>column_i</th>\n",
       "      <th>column_j</th>\n",
       "      <th>column_k</th>\n",
       "      <th>column_l</th>\n",
       "      <th>...</th>\n",
       "      <th>column_aa</th>\n",
       "      <th>column_ab</th>\n",
       "      <th>column_ac</th>\n",
       "      <th>column_ad</th>\n",
       "      <th>column_ae</th>\n",
       "      <th>column_af</th>\n",
       "      <th>column_ag</th>\n",
       "      <th>column_ah</th>\n",
       "      <th>column_a_True</th>\n",
       "      <th>Target_g</th>\n",
       "    </tr>\n",
       "  </thead>\n",
       "  <tbody>\n",
       "    <tr>\n",
       "      <th>0</th>\n",
       "      <td>0.99539</td>\n",
       "      <td>-0.05889</td>\n",
       "      <td>0.85243</td>\n",
       "      <td>0.02306</td>\n",
       "      <td>0.83398</td>\n",
       "      <td>-0.37708</td>\n",
       "      <td>1.00000</td>\n",
       "      <td>0.03760</td>\n",
       "      <td>0.85243</td>\n",
       "      <td>-0.17755</td>\n",
       "      <td>...</td>\n",
       "      <td>0.41078</td>\n",
       "      <td>-0.46168</td>\n",
       "      <td>0.21266</td>\n",
       "      <td>-0.34090</td>\n",
       "      <td>0.42267</td>\n",
       "      <td>-0.54487</td>\n",
       "      <td>0.18641</td>\n",
       "      <td>-0.45300</td>\n",
       "      <td>1</td>\n",
       "      <td>1</td>\n",
       "    </tr>\n",
       "    <tr>\n",
       "      <th>1</th>\n",
       "      <td>1.00000</td>\n",
       "      <td>-0.18829</td>\n",
       "      <td>0.93035</td>\n",
       "      <td>-0.36156</td>\n",
       "      <td>-0.10868</td>\n",
       "      <td>-0.93597</td>\n",
       "      <td>1.00000</td>\n",
       "      <td>-0.04549</td>\n",
       "      <td>0.50874</td>\n",
       "      <td>-0.67743</td>\n",
       "      <td>...</td>\n",
       "      <td>-0.20468</td>\n",
       "      <td>-0.18401</td>\n",
       "      <td>-0.19040</td>\n",
       "      <td>-0.11593</td>\n",
       "      <td>-0.16626</td>\n",
       "      <td>-0.06288</td>\n",
       "      <td>-0.13738</td>\n",
       "      <td>-0.02447</td>\n",
       "      <td>1</td>\n",
       "      <td>0</td>\n",
       "    </tr>\n",
       "    <tr>\n",
       "      <th>2</th>\n",
       "      <td>1.00000</td>\n",
       "      <td>-0.03365</td>\n",
       "      <td>1.00000</td>\n",
       "      <td>0.00485</td>\n",
       "      <td>1.00000</td>\n",
       "      <td>-0.12062</td>\n",
       "      <td>0.88965</td>\n",
       "      <td>0.01198</td>\n",
       "      <td>0.73082</td>\n",
       "      <td>0.05346</td>\n",
       "      <td>...</td>\n",
       "      <td>0.58984</td>\n",
       "      <td>-0.22145</td>\n",
       "      <td>0.43100</td>\n",
       "      <td>-0.17365</td>\n",
       "      <td>0.60436</td>\n",
       "      <td>-0.24180</td>\n",
       "      <td>0.56045</td>\n",
       "      <td>-0.38238</td>\n",
       "      <td>1</td>\n",
       "      <td>1</td>\n",
       "    </tr>\n",
       "    <tr>\n",
       "      <th>3</th>\n",
       "      <td>1.00000</td>\n",
       "      <td>-0.45161</td>\n",
       "      <td>1.00000</td>\n",
       "      <td>1.00000</td>\n",
       "      <td>0.71216</td>\n",
       "      <td>-1.00000</td>\n",
       "      <td>0.00000</td>\n",
       "      <td>0.00000</td>\n",
       "      <td>0.00000</td>\n",
       "      <td>0.00000</td>\n",
       "      <td>...</td>\n",
       "      <td>0.51613</td>\n",
       "      <td>1.00000</td>\n",
       "      <td>1.00000</td>\n",
       "      <td>-0.20099</td>\n",
       "      <td>0.25682</td>\n",
       "      <td>1.00000</td>\n",
       "      <td>-0.32382</td>\n",
       "      <td>1.00000</td>\n",
       "      <td>1</td>\n",
       "      <td>0</td>\n",
       "    </tr>\n",
       "    <tr>\n",
       "      <th>4</th>\n",
       "      <td>1.00000</td>\n",
       "      <td>-0.02401</td>\n",
       "      <td>0.94140</td>\n",
       "      <td>0.06531</td>\n",
       "      <td>0.92106</td>\n",
       "      <td>-0.23255</td>\n",
       "      <td>0.77152</td>\n",
       "      <td>-0.16399</td>\n",
       "      <td>0.52798</td>\n",
       "      <td>-0.20275</td>\n",
       "      <td>...</td>\n",
       "      <td>0.13290</td>\n",
       "      <td>-0.53206</td>\n",
       "      <td>0.02431</td>\n",
       "      <td>-0.62197</td>\n",
       "      <td>-0.05707</td>\n",
       "      <td>-0.59573</td>\n",
       "      <td>-0.04608</td>\n",
       "      <td>-0.65697</td>\n",
       "      <td>1</td>\n",
       "      <td>1</td>\n",
       "    </tr>\n",
       "  </tbody>\n",
       "</table>\n",
       "<p>5 rows × 34 columns</p>\n",
       "</div>"
      ],
      "text/plain": [
       "   column_c  column_d  column_e  column_f  column_g  column_h  column_i  \\\n",
       "0   0.99539  -0.05889   0.85243   0.02306   0.83398  -0.37708   1.00000   \n",
       "1   1.00000  -0.18829   0.93035  -0.36156  -0.10868  -0.93597   1.00000   \n",
       "2   1.00000  -0.03365   1.00000   0.00485   1.00000  -0.12062   0.88965   \n",
       "3   1.00000  -0.45161   1.00000   1.00000   0.71216  -1.00000   0.00000   \n",
       "4   1.00000  -0.02401   0.94140   0.06531   0.92106  -0.23255   0.77152   \n",
       "\n",
       "   column_j  column_k  column_l  ...  column_aa  column_ab  column_ac  \\\n",
       "0   0.03760   0.85243  -0.17755  ...    0.41078   -0.46168    0.21266   \n",
       "1  -0.04549   0.50874  -0.67743  ...   -0.20468   -0.18401   -0.19040   \n",
       "2   0.01198   0.73082   0.05346  ...    0.58984   -0.22145    0.43100   \n",
       "3   0.00000   0.00000   0.00000  ...    0.51613    1.00000    1.00000   \n",
       "4  -0.16399   0.52798  -0.20275  ...    0.13290   -0.53206    0.02431   \n",
       "\n",
       "   column_ad  column_ae  column_af  column_ag  column_ah  column_a_True  \\\n",
       "0   -0.34090    0.42267   -0.54487    0.18641   -0.45300              1   \n",
       "1   -0.11593   -0.16626   -0.06288   -0.13738   -0.02447              1   \n",
       "2   -0.17365    0.60436   -0.24180    0.56045   -0.38238              1   \n",
       "3   -0.20099    0.25682    1.00000   -0.32382    1.00000              1   \n",
       "4   -0.62197   -0.05707   -0.59573   -0.04608   -0.65697              1   \n",
       "\n",
       "   Target_g  \n",
       "0         1  \n",
       "1         0  \n",
       "2         1  \n",
       "3         0  \n",
       "4         1  \n",
       "\n",
       "[5 rows x 34 columns]"
      ]
     },
     "execution_count": 15,
     "metadata": {},
     "output_type": "execute_result"
    }
   ],
   "source": [
    "df4=df3.rename(columns={True: \"column_a_True\", \"g\": \"Target_g\"})\n",
    "df4.head()"
   ]
  },
  {
   "cell_type": "markdown",
   "id": "a547e044",
   "metadata": {},
   "source": [
    "#### Now all features and target value are in numerical value."
   ]
  },
  {
   "cell_type": "markdown",
   "id": "fa231c71",
   "metadata": {},
   "source": [
    "## Feature selection"
   ]
  },
  {
   "cell_type": "code",
   "execution_count": 16,
   "id": "ebb102d4",
   "metadata": {},
   "outputs": [
    {
     "data": {
      "text/plain": [
       "<AxesSubplot:>"
      ]
     },
     "execution_count": 16,
     "metadata": {},
     "output_type": "execute_result"
    },
    {
     "data": {
      "image/png": "[encoded data removed]",
      "text/plain": [
       "<Figure size 1080x864 with 2 Axes>"
      ]
     },
     "metadata": {},
     "output_type": "display_data"
    }
   ],
   "source": [
    "corr = df4.corr()\n",
    "mask = np.triu(np.ones_like(corr, dtype=np.bool))\n",
    "sns.set_style(style = 'white')   \n",
    "f, ax = plt.subplots(figsize=(15, 12))\n",
    "cmap = sns.diverging_palette(10, 250, as_cmap=True)\n",
    "sns.heatmap(corr, mask=mask, cmap=cmap, \n",
    "        square=True,\n",
    "        linewidths=.5, cbar_kws={\"shrink\": .5}, ax=ax)"
   ]
  },
  {
   "cell_type": "markdown",
   "id": "1d7e9df3",
   "metadata": {},
   "source": [
    "### Target_g has high correlation with column_c, e, g, a, v, aa; one can drop column_f, k,l,m, m, o,p."
   ]
  },
  {
   "cell_type": "code",
   "execution_count": 17,
   "id": "883dd561",
   "metadata": {},
   "outputs": [],
   "source": [
    "df5=df4.drop(['column_f', 'column_k','column_l','column_m','column_o','column_p'], axis = 1)"
   ]
  },
  {
   "cell_type": "markdown",
   "id": "0daf950d",
   "metadata": {},
   "source": [
    "## Model fit without dropping columns"
   ]
  },
  {
   "cell_type": "code",
   "execution_count": 18,
   "id": "db4cccf5",
   "metadata": {},
   "outputs": [],
   "source": [
    "from sklearn.model_selection import train_test_split"
   ]
  },
  {
   "cell_type": "code",
   "execution_count": 19,
   "id": "5bf48681",
   "metadata": {},
   "outputs": [],
   "source": [
    "X = df4.drop(['Target_g'], axis=1)\n",
    "y = df4.Target_g"
   ]
  },
  {
   "cell_type": "code",
   "execution_count": 20,
   "id": "73863be7",
   "metadata": {},
   "outputs": [
    {
     "data": {
      "text/plain": [
       "0.8873239436619719"
      ]
     },
     "execution_count": 20,
     "metadata": {},
     "output_type": "execute_result"
    }
   ],
   "source": [
    "X_train, X_test, y_train, y_test = train_test_split(X, y, train_size=0.8)\n",
    "from sklearn.linear_model import LogisticRegression\n",
    "model = LogisticRegression()\n",
    "model.fit(X_train,y_train)\n",
    "model.score(X_test,y_test)  "
   ]
  },
  {
   "cell_type": "markdown",
   "id": "8dc6c78e",
   "metadata": {},
   "source": [
    "#### Logistic regression accuracy varying from 80% to 90% (without dropping columns) "
   ]
  },
  {
   "cell_type": "code",
   "execution_count": 21,
   "id": "8ff61643",
   "metadata": {},
   "outputs": [
    {
     "data": {
      "text/plain": [
       "array([[ 1.34527897,  0.62329042,  1.75728907,  0.76587572,  0.79699589,\n",
       "         1.28377151,  0.82227161,  0.18582008, -0.42051627, -0.35815966,\n",
       "        -0.10255862,  0.60505905,  0.63908618, -0.31223905, -0.16325985,\n",
       "         0.57100452, -0.39372814, -0.09043125, -0.08791462, -1.98536427,\n",
       "         0.62365386, -0.01449979,  0.84221894,  0.81612929, -1.90548443,\n",
       "        -0.18168924,  0.56686345,  0.87376532,  0.45115984, -0.16561583,\n",
       "        -0.03146906, -1.18887734,  2.20346357]])"
      ]
     },
     "execution_count": 21,
     "metadata": {},
     "output_type": "execute_result"
    }
   ],
   "source": [
    "model.coef_  "
   ]
  },
  {
   "cell_type": "code",
   "execution_count": 22,
   "id": "0c5cb5aa",
   "metadata": {},
   "outputs": [
    {
     "data": {
      "text/plain": [
       "array([-3.96892776])"
      ]
     },
     "execution_count": 22,
     "metadata": {},
     "output_type": "execute_result"
    }
   ],
   "source": [
    "model.intercept_  "
   ]
  },
  {
   "cell_type": "code",
   "execution_count": 23,
   "id": "26e3488a",
   "metadata": {},
   "outputs": [],
   "source": [
    "x_predict=['1','0.24','1','0.48','1','0.7','1','1','1','1','1','1','1','0.77','1','1','1','1','0.74','1',\n",
    "           '0.89','1','0.64','1','0.38','1','0.10','1','0.17','1','-0.81','1','1']"
   ]
  },
  {
   "cell_type": "code",
   "execution_count": 24,
   "id": "6b8f554c",
   "metadata": {},
   "outputs": [
    {
     "name": "stderr",
     "output_type": "stream",
     "text": [
      "C:\\Users\\Shubham\\AppData\\Local\\Programs\\Python\\Python39\\lib\\site-packages\\sklearn\\base.py:441: UserWarning: X does not have valid feature names, but LogisticRegression was fitted with feature names\n",
      "  warnings.warn(\n",
      "C:\\Users\\Shubham\\AppData\\Local\\Programs\\Python\\Python39\\lib\\site-packages\\sklearn\\base.py:557: FutureWarning: Arrays of bytes/strings is being converted to decimal numbers if dtype='numeric'. This behavior is deprecated in 0.24 and will be removed in 1.1 (renaming of 0.26). Please convert your data to numeric values explicitly instead.\n",
      "  X = check_array(X, **check_params)\n"
     ]
    },
    {
     "data": {
      "text/plain": [
       "array([1], dtype=uint8)"
      ]
     },
     "execution_count": 24,
     "metadata": {},
     "output_type": "execute_result"
    }
   ],
   "source": [
    "model.predict([x_predict])"
   ]
  },
  {
   "cell_type": "code",
   "execution_count": 25,
   "id": "d9f04cf1",
   "metadata": {},
   "outputs": [
    {
     "name": "stderr",
     "output_type": "stream",
     "text": [
      "C:\\Users\\Shubham\\AppData\\Local\\Programs\\Python\\Python39\\lib\\site-packages\\sklearn\\base.py:441: UserWarning: X does not have valid feature names, but LogisticRegression was fitted with feature names\n",
      "  warnings.warn(\n",
      "C:\\Users\\Shubham\\AppData\\Local\\Programs\\Python\\Python39\\lib\\site-packages\\sklearn\\base.py:557: FutureWarning: Arrays of bytes/strings is being converted to decimal numbers if dtype='numeric'. This behavior is deprecated in 0.24 and will be removed in 1.1 (renaming of 0.26). Please convert your data to numeric values explicitly instead.\n",
      "  X = check_array(X, **check_params)\n"
     ]
    },
    {
     "data": {
      "text/plain": [
       "array([[0.03835479, 0.96164521]])"
      ]
     },
     "execution_count": 25,
     "metadata": {},
     "output_type": "execute_result"
    }
   ],
   "source": [
    "model.predict_proba([x_predict]) "
   ]
  },
  {
   "cell_type": "markdown",
   "id": "3d2d210f",
   "metadata": {},
   "source": [
    "### Predicted 1 (good radar) return for x_predict with 97% probability. "
   ]
  },
  {
   "cell_type": "code",
   "execution_count": 26,
   "id": "fa2a9e51",
   "metadata": {},
   "outputs": [
    {
     "data": {
      "text/plain": [
       "0.9295774647887324"
      ]
     },
     "execution_count": 26,
     "metadata": {},
     "output_type": "execute_result"
    }
   ],
   "source": [
    "X_train, X_test, y_train, y_test = train_test_split(X, y, train_size=0.8)\n",
    "from sklearn.svm import SVC\n",
    "model_ = SVC()\n",
    "model_.fit(X_train, y_train)\n",
    "model_.score(X_test, y_test)"
   ]
  },
  {
   "cell_type": "code",
   "execution_count": 27,
   "id": "7fe1adbe",
   "metadata": {},
   "outputs": [
    {
     "name": "stderr",
     "output_type": "stream",
     "text": [
      "C:\\Users\\Shubham\\AppData\\Local\\Programs\\Python\\Python39\\lib\\site-packages\\sklearn\\base.py:441: UserWarning: X does not have valid feature names, but SVC was fitted with feature names\n",
      "  warnings.warn(\n"
     ]
    },
    {
     "data": {
      "text/plain": [
       "array([1], dtype=uint8)"
      ]
     },
     "execution_count": 27,
     "metadata": {},
     "output_type": "execute_result"
    }
   ],
   "source": [
    "model_.predict([x_predict])"
   ]
  },
  {
   "cell_type": "markdown",
   "id": "0c0f02d8",
   "metadata": {},
   "source": [
    "### Model fit by dropping columns"
   ]
  },
  {
   "cell_type": "code",
   "execution_count": 28,
   "id": "6d0259dd",
   "metadata": {},
   "outputs": [],
   "source": [
    "X = df5.drop(['Target_g'], axis=1)\n",
    "y = df5.Target_g"
   ]
  },
  {
   "cell_type": "markdown",
   "id": "5e37fa7e",
   "metadata": {},
   "source": [
    "### 1. Logistic regression"
   ]
  },
  {
   "cell_type": "code",
   "execution_count": 337,
   "id": "f3a0cf35",
   "metadata": {},
   "outputs": [
    {
     "data": {
      "text/plain": [
       "(0.9142857142857143, 0.8873239436619719)"
      ]
     },
     "execution_count": 337,
     "metadata": {},
     "output_type": "execute_result"
    }
   ],
   "source": [
    "X_train, X_test, y_train, y_test = train_test_split(X, y, train_size=0.8)\n",
    "from sklearn.linear_model import LogisticRegression\n",
    "model = LogisticRegression()\n",
    "model.fit(X_train,y_train)\n",
    "model.score(X_train,y_train), model.score(X_test,y_test)  "
   ]
  },
  {
   "cell_type": "markdown",
   "id": "ff19e99d",
   "metadata": {},
   "source": [
    "#### In Logistic regression, High standard deviation of model accuracy as less dataset numbers (80% to 90%) as less data size. "
   ]
  },
  {
   "cell_type": "markdown",
   "id": "36cec956",
   "metadata": {},
   "source": [
    "### 2. Support vector machine"
   ]
  },
  {
   "cell_type": "code",
   "execution_count": 347,
   "id": "56523d56",
   "metadata": {},
   "outputs": [
    {
     "data": {
      "text/plain": [
       "(0.9714285714285714, 0.8873239436619719)"
      ]
     },
     "execution_count": 347,
     "metadata": {},
     "output_type": "execute_result"
    }
   ],
   "source": [
    "X_train, X_test, y_train, y_test = train_test_split(X, y, train_size=0.8)\n",
    "from sklearn.svm import SVC\n",
    "model_ = SVC()\n",
    "model_.fit(X_train, y_train)\n",
    "model_.score(X_train, y_train), model_.score(X_test, y_test)"
   ]
  },
  {
   "cell_type": "markdown",
   "id": "0c8526b6",
   "metadata": {},
   "source": [
    "#### In SVM, also High standard deviation of model accuracy as less dataset numbers.(88% to 98%) as less data size."
   ]
  },
  {
   "cell_type": "markdown",
   "id": "e5325cb5",
   "metadata": {},
   "source": [
    "### 3. Naive Bayes model"
   ]
  },
  {
   "cell_type": "code",
   "execution_count": 224,
   "id": "051b166c",
   "metadata": {},
   "outputs": [],
   "source": [
    "from sklearn.naive_bayes import GaussianNB"
   ]
  },
  {
   "cell_type": "code",
   "execution_count": 355,
   "id": "5b54615e",
   "metadata": {},
   "outputs": [
    {
     "data": {
      "text/plain": [
       "(0.8857142857142857, 0.8873239436619719)"
      ]
     },
     "execution_count": 355,
     "metadata": {},
     "output_type": "execute_result"
    }
   ],
   "source": [
    "X_train, X_test, y_train, y_test = train_test_split(X, y, train_size=0.8)\n",
    "gnb = GaussianNB()                                          #using gaussian distribution as features are continuous\n",
    "gnb.fit(X_train, y_train)\n",
    "gnb.score(X_train,y_train), gnb.score(X_test,y_test)"
   ]
  },
  {
   "cell_type": "markdown",
   "id": "02789788",
   "metadata": {},
   "source": [
    "### 4. Decision tree"
   ]
  },
  {
   "cell_type": "code",
   "execution_count": 233,
   "id": "a308f43a",
   "metadata": {},
   "outputs": [],
   "source": [
    "from sklearn import tree"
   ]
  },
  {
   "cell_type": "code",
   "execution_count": 298,
   "id": "bb5087c1",
   "metadata": {},
   "outputs": [
    {
     "data": {
      "text/plain": [
       "(1.0, 0.8591549295774648)"
      ]
     },
     "execution_count": 298,
     "metadata": {},
     "output_type": "execute_result"
    }
   ],
   "source": [
    "X_train, X_test, y_train, y_test = train_test_split(X, y, train_size=0.8)\n",
    "model_tree = tree.DecisionTreeClassifier()\n",
    "model_tree.fit(X_train, y_train)\n",
    "model_tree.score(X_train,y_train), model_tree.score(X_test,y_test)"
   ]
  },
  {
   "cell_type": "markdown",
   "id": "db472159",
   "metadata": {},
   "source": [
    "### 5. Random forest"
   ]
  },
  {
   "cell_type": "code",
   "execution_count": 284,
   "id": "f9c14a45",
   "metadata": {},
   "outputs": [
    {
     "data": {
      "text/plain": [
       "(1.0, 0.9295774647887324)"
      ]
     },
     "execution_count": 284,
     "metadata": {},
     "output_type": "execute_result"
    }
   ],
   "source": [
    "X_train, X_test, y_train, y_test = train_test_split(X, y, train_size=0.8)\n",
    "from sklearn.ensemble import RandomForestClassifier \n",
    "model_forest = RandomForestClassifier(n_estimators=20)\n",
    "model_forest.fit(X_train, y_train)\n",
    "model_forest.score(X_train,y_train), model_forest.score(X_test,y_test)"
   ]
  },
  {
   "cell_type": "markdown",
   "id": "8fb53c6f",
   "metadata": {},
   "source": [
    "### Both decision tree and Random forest overfits the training data. Regularization is required the models."
   ]
  },
  {
   "cell_type": "markdown",
   "id": "1269285d",
   "metadata": {},
   "source": [
    "### Conclusion \n",
    "#### 1: One can check model score, with categorical variables. But for prediction and correlation matrix requires numerical values. \n",
    "#### 2. SVM gives better accuracy when high number of features are present than Logistic. Logistic faces issue when large number of features. \n",
    "#### 3. Logistic and SVM(Linear) handles multi-collinearity well i.e with/without dropping uncorrelated features the model accuracy remains the same. "
   ]
  }
 ],
 "metadata": {
  "kernelspec": {
   "display_name": "Python 3 (ipykernel)",
   "language": "python",
   "name": "python3"
  },
  "language_info": {
   "codemirror_mode": {
    "name": "ipython",
    "version": 3
   },
   "file_extension": ".py",
   "mimetype": "text/x-python",
   "name": "python",
   "nbconvert_exporter": "python",
   "pygments_lexer": "ipython3",
   "version": "3.9.7"
  }
 },
 "nbformat": 4,
 "nbformat_minor": 5
}
